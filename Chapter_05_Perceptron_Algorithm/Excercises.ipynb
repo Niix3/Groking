{
 "cells": [
  {
   "cell_type": "code",
   "execution_count": 73,
   "metadata": {},
   "outputs": [],
   "source": [
    "import pandas as pd\n",
    "import numpy as np\n",
    "import matplotlib.pyplot as plt"
   ]
  },
  {
   "cell_type": "markdown",
   "metadata": {},
   "source": [
    "## Сделаем базовый код для обучения персептрона с помощью стохастического градиентного спуска (по одной точке)"
   ]
  },
  {
   "cell_type": "code",
   "execution_count": 74,
   "metadata": {},
   "outputs": [],
   "source": [
    "def score(weights, features, bias):\n",
    "    return np.dot(weights, features) + bias\n",
    "\n",
    "def step(x):\n",
    "    return 1 if x >= 0 else 0\n",
    "\n",
    "def predict(weights, features, bias):\n",
    "    return step(score(weights, features, bias))\n",
    "\n",
    "def mean_perceptron_error(weights, features, bias, labels):\n",
    "    errors = [0 if predict(weights, features[i], bias) == labels[i] else np.abs(score(weights, features[i], bias)) for i in range(len(features))]\n",
    "    return np.sum(errors) / len(features)"
   ]
  },
  {
   "cell_type": "code",
   "execution_count": 75,
   "metadata": {},
   "outputs": [],
   "source": [
    "def stohastic_gradient(weights, features, bias, labels, learning_rate=0.01):\n",
    "    predctions = predict(weights, features, bias)\n",
    "    weights += learning_rate * (labels - predctions) * features\n",
    "    bias += learning_rate * (labels - predctions)\n",
    "    return weights, bias\n"
   ]
  },
  {
   "cell_type": "code",
   "execution_count": 76,
   "metadata": {},
   "outputs": [],
   "source": [
    "def perceptron(features, labels, learning_rate=0.01, epochs=500):\n",
    "    weights = np.ones(features.shape[1])\n",
    "    bias = 0\n",
    "    for _ in range(epochs):\n",
    "        dot = np.random.randint(0, features.shape[0])\n",
    "        weights, bias = stohastic_gradient(weights, features[dot], bias, labels[dot], learning_rate)\n",
    "    return weights, bias"
   ]
  },
  {
   "cell_type": "code",
   "execution_count": 77,
   "metadata": {},
   "outputs": [],
   "source": [
    "class Perceptron:\n",
    "    def __init__(self, learning_rate=0.01, epochs=500):\n",
    "        self.learning_rate = learning_rate\n",
    "        self.epochs = epochs\n",
    "        self.weights = None\n",
    "        self.bias = None\n",
    "\n",
    "    def fit(self, features, labels):\n",
    "        self.weights, self.bias = perceptron(features, labels, self.learning_rate, self.epochs)\n",
    "\n",
    "    def predict(self, features):\n",
    "        return np.array([predict(self.weights, feature, self.bias) for feature in features])\n",
    "    \n",
    "    def mean_error(self, features, labels):\n",
    "        if self.weights is None or self.bias is None:\n",
    "            print(\"Модель ещё не обучена\")\n",
    "            return None\n",
    "        return mean_perceptron_error(self.weights, features, self.bias, labels)"
   ]
  },
  {
   "cell_type": "markdown",
   "metadata": {},
   "source": [
    "## Обучим персептрон на данных из книги"
   ]
  },
  {
   "cell_type": "markdown",
   "metadata": {},
   "source": [
    "### Упражнение 5.1"
   ]
  },
  {
   "cell_type": "code",
   "execution_count": 78,
   "metadata": {},
   "outputs": [
    {
     "data": {
      "text/html": [
       "<div>\n",
       "<style scoped>\n",
       "    .dataframe tbody tr th:only-of-type {\n",
       "        vertical-align: middle;\n",
       "    }\n",
       "\n",
       "    .dataframe tbody tr th {\n",
       "        vertical-align: top;\n",
       "    }\n",
       "\n",
       "    .dataframe thead th {\n",
       "        text-align: right;\n",
       "    }\n",
       "</style>\n",
       "<table border=\"1\" class=\"dataframe\">\n",
       "  <thead>\n",
       "    <tr style=\"text-align: right;\">\n",
       "      <th></th>\n",
       "      <th>кашель</th>\n",
       "      <th>температура</th>\n",
       "      <th>затрудненное дыхание</th>\n",
       "      <th>утомляемость</th>\n",
       "      <th>диагноз</th>\n",
       "    </tr>\n",
       "    <tr>\n",
       "      <th>Пациент</th>\n",
       "      <th></th>\n",
       "      <th></th>\n",
       "      <th></th>\n",
       "      <th></th>\n",
       "      <th></th>\n",
       "    </tr>\n",
       "  </thead>\n",
       "  <tbody>\n",
       "    <tr>\n",
       "      <th>1</th>\n",
       "      <td>0</td>\n",
       "      <td>1</td>\n",
       "      <td>1</td>\n",
       "      <td>1</td>\n",
       "      <td>1</td>\n",
       "    </tr>\n",
       "    <tr>\n",
       "      <th>2</th>\n",
       "      <td>1</td>\n",
       "      <td>1</td>\n",
       "      <td>0</td>\n",
       "      <td>1</td>\n",
       "      <td>1</td>\n",
       "    </tr>\n",
       "    <tr>\n",
       "      <th>3</th>\n",
       "      <td>1</td>\n",
       "      <td>0</td>\n",
       "      <td>1</td>\n",
       "      <td>1</td>\n",
       "      <td>1</td>\n",
       "    </tr>\n",
       "    <tr>\n",
       "      <th>4</th>\n",
       "      <td>1</td>\n",
       "      <td>1</td>\n",
       "      <td>1</td>\n",
       "      <td>0</td>\n",
       "      <td>1</td>\n",
       "    </tr>\n",
       "    <tr>\n",
       "      <th>5</th>\n",
       "      <td>1</td>\n",
       "      <td>0</td>\n",
       "      <td>0</td>\n",
       "      <td>1</td>\n",
       "      <td>0</td>\n",
       "    </tr>\n",
       "  </tbody>\n",
       "</table>\n",
       "</div>"
      ],
      "text/plain": [
       "         кашель  температура  затрудненное дыхание  утомляемость  диагноз\n",
       "Пациент                                                                  \n",
       "1             0            1                     1             1        1\n",
       "2             1            1                     0             1        1\n",
       "3             1            0                     1             1        1\n",
       "4             1            1                     1             0        1\n",
       "5             1            0                     0             1        0"
      ]
     },
     "execution_count": 78,
     "metadata": {},
     "output_type": "execute_result"
    }
   ],
   "source": [
    "df = pd.DataFrame({\"кашель\":[0, 1, 1, 1, 1, 0, 0, 0],\n",
    "                   \"температура\":[1, 1,0, 1, 0, 1, 1, 0],\n",
    "                   \"затрудненное дыхание\":[1, 0, 1, 1, 0, 1, 0, 0],\n",
    "                   \"утомляемость\":[1, 1, 1, 0, 1, 0, 0, 1],\n",
    "                   \"диагноз\":[1, 1, 1, 1, 0, 0, 0, 0]}, index=np.arange(1, 9))\n",
    "df.index.name = \"Пациент\"\n",
    "df.head()"
   ]
  },
  {
   "cell_type": "code",
   "execution_count": 79,
   "metadata": {},
   "outputs": [],
   "source": [
    "labels = df[\"диагноз\"]\n",
    "features = df.drop(columns=[\"диагноз\"])\n"
   ]
  },
  {
   "cell_type": "code",
   "execution_count": 80,
   "metadata": {},
   "outputs": [],
   "source": [
    "model = Perceptron()\n",
    "model.fit(features.values, labels.values)\n",
    "predictions = model.predict(features.values)\n"
   ]
  },
  {
   "cell_type": "code",
   "execution_count": 81,
   "metadata": {},
   "outputs": [
    {
     "name": "stdout",
     "output_type": "stream",
     "text": [
      "Веса: [0.58 0.46 0.59 0.47], смещение: -1.0700000000000007, ошибка 0.0\n"
     ]
    }
   ],
   "source": [
    "print(f\"Веса: {model.weights}, смещение: {model.bias}, ошибка {model.mean_error(features.values, labels.values)}\")"
   ]
  },
  {
   "cell_type": "markdown",
   "metadata": {},
   "source": [
    "### Упражнение 5.2"
   ]
  },
  {
   "cell_type": "markdown",
   "metadata": {},
   "source": [
    "Создадим модель из книги и выполним с ней манипуляции"
   ]
  },
  {
   "cell_type": "code",
   "execution_count": 92,
   "metadata": {},
   "outputs": [],
   "source": [
    "bad_model = Perceptron()\n",
    "bad_model.weights = np.array([2, 3], dtype=float)\n",
    "bad_model.bias = -4\n"
   ]
  },
  {
   "cell_type": "code",
   "execution_count": 86,
   "metadata": {},
   "outputs": [
    {
     "data": {
      "text/plain": [
       "array([1])"
      ]
     },
     "execution_count": 86,
     "metadata": {},
     "output_type": "execute_result"
    }
   ],
   "source": [
    "#Точка p(1, 1) с меткой 0 должна классифицироваться неверно\n",
    "p = np.array([1, 1])\n",
    "bad_model.predict([p])\n"
   ]
  },
  {
   "cell_type": "code",
   "execution_count": 84,
   "metadata": {},
   "outputs": [
    {
     "data": {
      "text/plain": [
       "np.float64(1.0)"
      ]
     },
     "execution_count": 84,
     "metadata": {},
     "output_type": "execute_result"
    }
   ],
   "source": [
    "# рассчитаем ошибку (среднюю) для точки\n",
    "bad_model.mean_error([p], [0])"
   ]
  },
  {
   "cell_type": "code",
   "execution_count": 95,
   "metadata": {},
   "outputs": [
    {
     "name": "stdout",
     "output_type": "stream",
     "text": [
      "[1.97 2.97] [-4.02]\n"
     ]
    }
   ],
   "source": [
    "# сделаем один шаг градиентного спуска\n",
    "prediction = bad_model.predict([p])\n",
    "bad_model.weights += bad_model.learning_rate * (0 - prediction) * p\n",
    "bad_model.bias += bad_model.learning_rate * (0 - prediction)\n",
    "# проверим, что вес изменился\n",
    "print(bad_model.weights, bad_model.bias)"
   ]
  },
  {
   "cell_type": "code",
   "execution_count": 96,
   "metadata": {},
   "outputs": [
    {
     "data": {
      "text/plain": [
       "np.float64(0.9200000000000008)"
      ]
     },
     "execution_count": 96,
     "metadata": {},
     "output_type": "execute_result"
    }
   ],
   "source": [
    "bad_model.mean_error([p], [0])# ошибка должна уменьшиться"
   ]
  },
  {
   "cell_type": "markdown",
   "metadata": {},
   "source": [
    "### Упражнение 5.3"
   ]
  },
  {
   "cell_type": "markdown",
   "metadata": {},
   "source": [
    "Создадим персептрона модулирующий AND, OR, XOR\n",
    "(спойлер AND = x1 + x2 - 2\n",
    "OR = x1 + x2, XOR не существует)"
   ]
  },
  {
   "cell_type": "code",
   "execution_count": 103,
   "metadata": {},
   "outputs": [],
   "source": [
    "data = pd.DataFrame({\"x1\":[0, 0, 1, 1],\n",
    "                   \"x2\":[0, 1, 0, 1],\n",
    "                   \"y\":[0, 0, 0, 1]})\n"
   ]
  },
  {
   "cell_type": "code",
   "execution_count": 102,
   "metadata": {},
   "outputs": [
    {
     "data": {
      "text/plain": [
       "array([0, 0, 0, 1])"
      ]
     },
     "execution_count": 102,
     "metadata": {},
     "output_type": "execute_result"
    }
   ],
   "source": [
    "AND = Perceptron()\n",
    "AND.fit(data[[\"x1\", \"x2\"]].values, data[\"y\"].values)\n",
    "predictions = AND.predict(data[[\"x1\", \"x2\"]].values)\n",
    "predictions"
   ]
  },
  {
   "cell_type": "code",
   "execution_count": 104,
   "metadata": {},
   "outputs": [],
   "source": [
    "data_or = pd.DataFrame({\"x1\":[0, 0, 1, 1],\n",
    "                   \"x2\":[0, 1, 0, 1],\n",
    "                   \"y\":[0, 1, 1, 1]})"
   ]
  },
  {
   "cell_type": "code",
   "execution_count": 106,
   "metadata": {},
   "outputs": [
    {
     "data": {
      "text/plain": [
       "array([0, 1, 1, 1])"
      ]
     },
     "execution_count": 106,
     "metadata": {},
     "output_type": "execute_result"
    }
   ],
   "source": [
    "OR = Perceptron()\n",
    "OR.fit(data_or[[\"x1\", \"x2\"]].values, data_or[\"y\"].values)\n",
    "predictions = OR.predict(data_or[[\"x1\", \"x2\"]].values)\n",
    "predictions"
   ]
  }
 ],
 "metadata": {
  "kernelspec": {
   "display_name": "Python 3",
   "language": "python",
   "name": "python3"
  },
  "language_info": {
   "codemirror_mode": {
    "name": "ipython",
    "version": 3
   },
   "file_extension": ".py",
   "mimetype": "text/x-python",
   "name": "python",
   "nbconvert_exporter": "python",
   "pygments_lexer": "ipython3",
   "version": "3.13.2"
  }
 },
 "nbformat": 4,
 "nbformat_minor": 2
}
