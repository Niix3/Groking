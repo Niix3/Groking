{
 "cells": [
  {
   "cell_type": "markdown",
   "metadata": {},
   "source": [
    "Сделаю упражнение 8.3"
   ]
  },
  {
   "cell_type": "code",
   "execution_count": 87,
   "metadata": {},
   "outputs": [],
   "source": [
    "import numpy as np\n",
    "import pandas as pd"
   ]
  },
  {
   "cell_type": "code",
   "execution_count": 88,
   "metadata": {},
   "outputs": [
    {
     "name": "stdout",
     "output_type": "stream",
     "text": [
      "(8,) (8,) (8,) (8,) (8,)\n"
     ]
    }
   ],
   "source": [
    "cough = np.array([0, 1, 1, 1, 1, 0, 0, 0])\n",
    "temperature = np.array([1, 1, 0, 1, 0, 1, 1, 0])\n",
    "breath = np.array([1, 0, 1, 1, 0, 1, 0, 0])\n",
    "tedious = np.array([1, 1, 1, 0, 1, 0, 0, 1])\n",
    "sick = np.array([1, 1, 1, 1, 0, 0, 0, 0])\n",
    "print(cough.shape, temperature.shape, breath.shape, tedious.shape, sick.shape)"
   ]
  },
  {
   "cell_type": "code",
   "execution_count": 89,
   "metadata": {},
   "outputs": [
    {
     "data": {
      "text/html": [
       "<div>\n",
       "<style scoped>\n",
       "    .dataframe tbody tr th:only-of-type {\n",
       "        vertical-align: middle;\n",
       "    }\n",
       "\n",
       "    .dataframe tbody tr th {\n",
       "        vertical-align: top;\n",
       "    }\n",
       "\n",
       "    .dataframe thead th {\n",
       "        text-align: right;\n",
       "    }\n",
       "</style>\n",
       "<table border=\"1\" class=\"dataframe\">\n",
       "  <thead>\n",
       "    <tr style=\"text-align: right;\">\n",
       "      <th></th>\n",
       "      <th>cough</th>\n",
       "      <th>temperature</th>\n",
       "      <th>breath</th>\n",
       "      <th>tedious</th>\n",
       "      <th>sick</th>\n",
       "    </tr>\n",
       "    <tr>\n",
       "      <th>Patient</th>\n",
       "      <th></th>\n",
       "      <th></th>\n",
       "      <th></th>\n",
       "      <th></th>\n",
       "      <th></th>\n",
       "    </tr>\n",
       "  </thead>\n",
       "  <tbody>\n",
       "    <tr>\n",
       "      <th>1</th>\n",
       "      <td>0</td>\n",
       "      <td>1</td>\n",
       "      <td>1</td>\n",
       "      <td>1</td>\n",
       "      <td>1</td>\n",
       "    </tr>\n",
       "    <tr>\n",
       "      <th>2</th>\n",
       "      <td>1</td>\n",
       "      <td>1</td>\n",
       "      <td>0</td>\n",
       "      <td>1</td>\n",
       "      <td>1</td>\n",
       "    </tr>\n",
       "    <tr>\n",
       "      <th>3</th>\n",
       "      <td>1</td>\n",
       "      <td>0</td>\n",
       "      <td>1</td>\n",
       "      <td>1</td>\n",
       "      <td>1</td>\n",
       "    </tr>\n",
       "    <tr>\n",
       "      <th>4</th>\n",
       "      <td>1</td>\n",
       "      <td>1</td>\n",
       "      <td>1</td>\n",
       "      <td>0</td>\n",
       "      <td>1</td>\n",
       "    </tr>\n",
       "    <tr>\n",
       "      <th>5</th>\n",
       "      <td>1</td>\n",
       "      <td>0</td>\n",
       "      <td>0</td>\n",
       "      <td>1</td>\n",
       "      <td>0</td>\n",
       "    </tr>\n",
       "    <tr>\n",
       "      <th>6</th>\n",
       "      <td>0</td>\n",
       "      <td>1</td>\n",
       "      <td>1</td>\n",
       "      <td>0</td>\n",
       "      <td>0</td>\n",
       "    </tr>\n",
       "    <tr>\n",
       "      <th>7</th>\n",
       "      <td>0</td>\n",
       "      <td>1</td>\n",
       "      <td>0</td>\n",
       "      <td>0</td>\n",
       "      <td>0</td>\n",
       "    </tr>\n",
       "    <tr>\n",
       "      <th>8</th>\n",
       "      <td>0</td>\n",
       "      <td>0</td>\n",
       "      <td>0</td>\n",
       "      <td>1</td>\n",
       "      <td>0</td>\n",
       "    </tr>\n",
       "  </tbody>\n",
       "</table>\n",
       "</div>"
      ],
      "text/plain": [
       "         cough  temperature  breath  tedious  sick\n",
       "Patient                                           \n",
       "1            0            1       1        1     1\n",
       "2            1            1       0        1     1\n",
       "3            1            0       1        1     1\n",
       "4            1            1       1        0     1\n",
       "5            1            0       0        1     0\n",
       "6            0            1       1        0     0\n",
       "7            0            1       0        0     0\n",
       "8            0            0       0        1     0"
      ]
     },
     "execution_count": 89,
     "metadata": {},
     "output_type": "execute_result"
    }
   ],
   "source": [
    "data = pd.DataFrame(dict(cough = np.array([0, 1, 1, 1, 1, 0, 0, 0]),\n",
    "                         temperature = np.array([1, 1, 0, 1, 0, 1, 1, 0]),\n",
    "                         breath = np.array([1, 0, 1, 1, 0, 1, 0, 0]),\n",
    "                         tedious = np.array([1, 1, 1, 0, 1, 0, 0, 1]),\n",
    "                         sick = np.array([1, 1, 1, 1, 0, 0, 0, 0])\n",
    "                         ), index=np.arange(1, len(cough) + 1))\n",
    "data.index.name = \"Patient\"\n",
    "data"
   ]
  },
  {
   "cell_type": "markdown",
   "metadata": {},
   "source": [
    "Создадим наивный Байесовский классификатор"
   ]
  },
  {
   "cell_type": "code",
   "execution_count": 90,
   "metadata": {},
   "outputs": [],
   "source": [
    "def P_A(data):# априорная вероятность заболеть\n",
    "    return np.sum(data[\"sick\"]) / len(data)\n",
    "\n",
    "def P_BA(feature_name, data, yes):# вероятность встретить признак у больного\n",
    "    num_of_sick = len(data[data[\"sick\"] == 1])\n",
    "    num_of_sick_with_feature = len(data[(data[feature_name] == yes) & (data[\"sick\"] == 1)])\n",
    "    return num_of_sick_with_feature/ num_of_sick\n",
    "\n",
    "def P_B_antiA(feature_name, data, yes): # вероятность встретить признак у здорового\n",
    "    num_of_healthy = len(data[data[\"sick\"] == 0])\n",
    "    num_of_healthy_with_feature = len(data[(data[feature_name] == yes) & (data[\"sick\"] == 0)])\n",
    "    return num_of_healthy_with_feature/ num_of_healthy\n"
   ]
  },
  {
   "cell_type": "code",
   "execution_count": 91,
   "metadata": {},
   "outputs": [],
   "source": [
    "def naive_bayes(feature, data, yes=1):\n",
    "    num_of_healthy = len(data) - len(data[data[\"sick\"] == 0])\n",
    "\n",
    "    aprior = P_A(data)\n",
    "    pba = P_BA(feature, data, yes)\n",
    "    p_no_a = P_B_antiA(feature, data, yes) * num_of_healthy / len(data)\n",
    "    return aprior * pba / (pba * aprior + p_no_a) \n",
    "\n",
    "def naive_bayes_for_many(features, data, yes_array):\n",
    "    aprior = P_A(data)\n",
    "    ans = aprior # изначально ответ равен априорной вероятности\n",
    "    p_with_a = [1]\n",
    "    p_without_a = [1]\n",
    "    for i in range(len(features)):\n",
    "        feature = features[i]\n",
    "        yes = yes_array[i]\n",
    "        p_with_a.append(P_BA(feature, data, yes))\n",
    "        p_without_a.append(P_B_antiA(feature, data, yes))\n",
    "    return ans * np.prod(p_with_a) / (np.prod(p_with_a) * aprior + np.prod(p_without_a) * (1 - aprior))\n"
   ]
  },
  {
   "cell_type": "markdown",
   "metadata": {},
   "source": [
    "Пункты А и Б делаем с помощью классификатора для одного признака"
   ]
  },
  {
   "cell_type": "code",
   "execution_count": 92,
   "metadata": {},
   "outputs": [
    {
     "name": "stdout",
     "output_type": "stream",
     "text": [
      "0.75\n",
      "0.3333333333333333\n"
     ]
    }
   ],
   "source": [
    "print(naive_bayes(\"cough\", data))\n",
    "print(naive_bayes(\"tedious\",data, yes=0))"
   ]
  },
  {
   "cell_type": "markdown",
   "metadata": {},
   "source": [
    "Пункты В и Г делаем функцией для нескольких признаков"
   ]
  },
  {
   "cell_type": "code",
   "execution_count": 93,
   "metadata": {},
   "outputs": [
    {
     "name": "stdout",
     "output_type": "stream",
     "text": [
      "0.8181818181818182\n"
     ]
    }
   ],
   "source": [
    "features = [\"cough\", \"temperature\"]\n",
    "yes_array = [1, 1]\n",
    "print(naive_bayes_for_many(features, data, yes_array))"
   ]
  },
  {
   "cell_type": "code",
   "execution_count": 94,
   "metadata": {},
   "outputs": [
    {
     "name": "stdout",
     "output_type": "stream",
     "text": [
      "0.6\n"
     ]
    }
   ],
   "source": [
    "features = [\"cough\", \"temperature\", \"breath\"]\n",
    "yes_array = [1, 1, 0]\n",
    "print(naive_bayes_for_many(features, data, yes_array))"
   ]
  },
  {
   "cell_type": "markdown",
   "metadata": {},
   "source": [
    "Получили что ответы сошлись с книгой, но код по хорошему стоит переделать"
   ]
  }
 ],
 "metadata": {
  "kernelspec": {
   "display_name": "Python 3",
   "language": "python",
   "name": "python3"
  },
  "language_info": {
   "codemirror_mode": {
    "name": "ipython",
    "version": 3
   },
   "file_extension": ".py",
   "mimetype": "text/x-python",
   "name": "python",
   "nbconvert_exporter": "python",
   "pygments_lexer": "ipython3",
   "version": "3.13.2"
  }
 },
 "nbformat": 4,
 "nbformat_minor": 2
}
